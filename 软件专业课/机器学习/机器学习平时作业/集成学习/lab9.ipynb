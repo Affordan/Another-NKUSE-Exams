{
 "cells": [
  {
   "cell_type": "markdown",
   "metadata": {},
   "source": [
    "# 实验9. AdaBoost\n",
    "\n",
    "## 1. 数据准备\n",
    "### 1.1 数据装载"
   ]
  },
  {
   "cell_type": "code",
   "execution_count": 22,
   "metadata": {},
   "outputs": [
    {
     "name": "stdout",
     "output_type": "stream",
     "text": [
      ".. _breast_cancer_dataset:\n",
      "\n",
      "Breast cancer wisconsin (diagnostic) dataset\n",
      "--------------------------------------------\n",
      "\n",
      "**Data Set Characteristics:**\n",
      "\n",
      "    :Number of Instances: 569\n",
      "\n",
      "    :Number of Attributes: 30 numeric, predictive attributes and the class\n",
      "\n",
      "    :Attribute Information:\n",
      "        - radius (mean of distances from center to points on the perimeter)\n",
      "        - texture (standard deviation of gray-scale values)\n",
      "        - perimeter\n",
      "        - area\n",
      "        - smoothness (local variation in radius lengths)\n",
      "        - compactness (perimeter^2 / area - 1.0)\n",
      "        - concavity (severity of concave portions of the contour)\n",
      "        - concave points (number of concave portions of the contour)\n",
      "        - symmetry\n",
      "        - fractal dimension (\"coastline approximation\" - 1)\n",
      "\n",
      "        The mean, standard error, and \"worst\" or largest (mean of the three\n",
      "        worst/largest values) of these features were computed for each image,\n",
      "        resulting in 30 features.  For instance, field 0 is Mean Radius, field\n",
      "        10 is Radius SE, field 20 is Worst Radius.\n",
      "\n",
      "        - class:\n",
      "                - WDBC-Malignant\n",
      "                - WDBC-Benign\n",
      "\n",
      "    :Summary Statistics:\n",
      "\n",
      "    ===================================== ====== ======\n",
      "                                           Min    Max\n",
      "    ===================================== ====== ======\n",
      "    radius (mean):                        6.981  28.11\n",
      "    texture (mean):                       9.71   39.28\n",
      "    perimeter (mean):                     43.79  188.5\n",
      "    area (mean):                          143.5  2501.0\n",
      "    smoothness (mean):                    0.053  0.163\n",
      "    compactness (mean):                   0.019  0.345\n",
      "    concavity (mean):                     0.0    0.427\n",
      "    concave points (mean):                0.0    0.201\n",
      "    symmetry (mean):                      0.106  0.304\n",
      "    fractal dimension (mean):             0.05   0.097\n",
      "    radius (standard error):              0.112  2.873\n",
      "    texture (standard error):             0.36   4.885\n",
      "    perimeter (standard error):           0.757  21.98\n",
      "    area (standard error):                6.802  542.2\n",
      "    smoothness (standard error):          0.002  0.031\n",
      "    compactness (standard error):         0.002  0.135\n",
      "    concavity (standard error):           0.0    0.396\n",
      "    concave points (standard error):      0.0    0.053\n",
      "    symmetry (standard error):            0.008  0.079\n",
      "    fractal dimension (standard error):   0.001  0.03\n",
      "    radius (worst):                       7.93   36.04\n",
      "    texture (worst):                      12.02  49.54\n",
      "    perimeter (worst):                    50.41  251.2\n",
      "    area (worst):                         185.2  4254.0\n",
      "    smoothness (worst):                   0.071  0.223\n",
      "    compactness (worst):                  0.027  1.058\n",
      "    concavity (worst):                    0.0    1.252\n",
      "    concave points (worst):               0.0    0.291\n",
      "    symmetry (worst):                     0.156  0.664\n",
      "    fractal dimension (worst):            0.055  0.208\n",
      "    ===================================== ====== ======\n",
      "\n",
      "    :Missing Attribute Values: None\n",
      "\n",
      "    :Class Distribution: 212 - Malignant, 357 - Benign\n",
      "\n",
      "    :Creator:  Dr. William H. Wolberg, W. Nick Street, Olvi L. Mangasarian\n",
      "\n",
      "    :Donor: Nick Street\n",
      "\n",
      "    :Date: November, 1995\n",
      "\n",
      "This is a copy of UCI ML Breast Cancer Wisconsin (Diagnostic) datasets.\n",
      "https://goo.gl/U2Uwz2\n",
      "\n",
      "Features are computed from a digitized image of a fine needle\n",
      "aspirate (FNA) of a breast mass.  They describe\n",
      "characteristics of the cell nuclei present in the image.\n",
      "\n",
      "Separating plane described above was obtained using\n",
      "Multisurface Method-Tree (MSM-T) [K. P. Bennett, \"Decision Tree\n",
      "Construction Via Linear Programming.\" Proceedings of the 4th\n",
      "Midwest Artificial Intelligence and Cognitive Science Society,\n",
      "pp. 97-101, 1992], a classification method which uses linear\n",
      "programming to construct a decision tree.  Relevant features\n",
      "were selected using an exhaustive search in the space of 1-4\n",
      "features and 1-3 separating planes.\n",
      "\n",
      "The actual linear program used to obtain the separating plane\n",
      "in the 3-dimensional space is that described in:\n",
      "[K. P. Bennett and O. L. Mangasarian: \"Robust Linear\n",
      "Programming Discrimination of Two Linearly Inseparable Sets\",\n",
      "Optimization Methods and Software 1, 1992, 23-34].\n",
      "\n",
      "This database is also available through the UW CS ftp server:\n",
      "\n",
      "ftp ftp.cs.wisc.edu\n",
      "cd math-prog/cpo-dataset/machine-learn/WDBC/\n",
      "\n",
      ".. topic:: References\n",
      "\n",
      "   - W.N. Street, W.H. Wolberg and O.L. Mangasarian. Nuclear feature extraction \n",
      "     for breast tumor diagnosis. IS&T/SPIE 1993 International Symposium on \n",
      "     Electronic Imaging: Science and Technology, volume 1905, pages 861-870,\n",
      "     San Jose, CA, 1993.\n",
      "   - O.L. Mangasarian, W.N. Street and W.H. Wolberg. Breast cancer diagnosis and \n",
      "     prognosis via linear programming. Operations Research, 43(4), pages 570-577, \n",
      "     July-August 1995.\n",
      "   - W.H. Wolberg, W.N. Street, and O.L. Mangasarian. Machine learning techniques\n",
      "     to diagnose breast cancer from fine-needle aspirates. Cancer Letters 77 (1994) \n",
      "     163-171.\n",
      "['mean radius' 'mean texture' 'mean perimeter' 'mean area'\n",
      " 'mean smoothness' 'mean compactness' 'mean concavity'\n",
      " 'mean concave points' 'mean symmetry' 'mean fractal dimension'\n",
      " 'radius error' 'texture error' 'perimeter error' 'area error'\n",
      " 'smoothness error' 'compactness error' 'concavity error'\n",
      " 'concave points error' 'symmetry error' 'fractal dimension error'\n",
      " 'worst radius' 'worst texture' 'worst perimeter' 'worst area'\n",
      " 'worst smoothness' 'worst compactness' 'worst concavity'\n",
      " 'worst concave points' 'worst symmetry' 'worst fractal dimension']\n"
     ]
    }
   ],
   "source": [
    "from sklearn.model_selection import train_test_split\n",
    "from sklearn.datasets import load_breast_cancer\n",
    "\n",
    "breastcancerdata = load_breast_cancer()\n",
    "X = breastcancerdata.data\n",
    "out = breastcancerdata.target\n",
    "\n",
    "dsDescr = breastcancerdata['DESCR']\n",
    "print(breastcancerdata.DESCR)\n",
    "\n",
    "featureNames = breastcancerdata.feature_names\n",
    "print(featureNames)"
   ]
  },
  {
   "cell_type": "markdown",
   "metadata": {},
   "source": [
    "### 1.2 数据预处理\n",
    "将输出从0、1变换为-1和1。请修改如下代码："
   ]
  },
  {
   "cell_type": "code",
   "execution_count": 23,
   "metadata": {},
   "outputs": [],
   "source": [
    "y = out '''CODE HERE:类标签变换'''"
   ]
  },
  {
   "cell_type": "markdown",
   "metadata": {},
   "source": [
    "### 1.3 划分训练集和测试集"
   ]
  },
  {
   "cell_type": "code",
   "execution_count": 24,
   "metadata": {},
   "outputs": [],
   "source": []
  },
  {
   "cell_type": "markdown",
   "metadata": {},
   "source": [
    "## 2. 构造弱分类器（一层决策树或决策树桩）\n",
    "### 2.1 使用决策树桩分类器\n",
    "\n",
    "thresh_val和thresh_ineq：小于（lt, less than）阈值返回-1，反之，返回+1；\n",
    "\n",
    "大于（gt, greater than）阈值返回-1，反之，返回+1。"
   ]
  },
  {
   "cell_type": "code",
   "execution_count": null,
   "metadata": {},
   "outputs": [],
   "source": [
    "import numpy as np\n",
    "\n",
    "\"\"\"通过阈值比较对数据进行分类的决策树桩分类器\"\"\"\n",
    "def stump_classify(X, dimension, thresh_val, thresh_ineq):\n",
    "    m, n = X.shape\n",
    "\n",
    "    ret_array = np.ones((m, 1))\n",
    "    if thresh_ineq == 'lt':\n",
    "        ret_array[X[:, dimension] <= thresh_val] = -1.0\n",
    "    else:\n",
    "        ret_array[X[:, dimension] > thresh_val] = -1.0\n",
    "    return ret_array"
   ]
  },
  {
   "cell_type": "markdown",
   "metadata": {},
   "source": [
    "使用如下代码展示决策树桩的预测"
   ]
  },
  {
   "cell_type": "code",
   "execution_count": null,
   "metadata": {},
   "outputs": [],
   "source": [
    "\n",
    "X_example = np.array([[1, 2, 3], [4, 5, 6], [7, 8, 9], [10, 11, 12]])\n",
    "dimension = 0\n",
    "thresh_val = 2\n",
    "thresh_ineq = 'lt'\n",
    "\n",
    "result = stump_classify(X_example, dimension, thresh_val, thresh_ineq)\n",
    "print(result)\n",
    "\n",
    "thresh_ineq = 'gt'\n",
    "result = stump_classify(X_example, dimension, thresh_val, thresh_ineq)\n",
    "print(result)"
   ]
  },
  {
   "cell_type": "markdown",
   "metadata": {},
   "source": [
    "### 2.2 训练决策树桩分类器"
   ]
  },
  {
   "cell_type": "code",
   "execution_count": 26,
   "metadata": {},
   "outputs": [],
   "source": [
    "def train_stump(X, y, D):\n",
    "    m, n = X.shape\n",
    "    num_steps = 10.0\n",
    "    best_stump = {}\n",
    "    best_class_est = np.zeros((m, 1))\n",
    "    min_error = np.inf # 正无穷大\n",
    "\n",
    "    for i in range(n): # 枚举所有维，看看哪一维适合做决策树桩\n",
    "        range_min = X[:, i].min()\n",
    "        range_max = X[:, i].max()\n",
    "        step_size = (range_max - range_min) / num_steps\n",
    "        for j in range(-1, int(num_steps) + 1): # 枚举当前维的所有候选阈值，看看哪个阈值适合做当前决策树桩的阈值\n",
    "            for inequal in ['lt', 'gt']: # 枚举“小于”和“大于”两种情况\n",
    "                thresh_val = (range_min + float(j) * step_size)\n",
    "\n",
    "                predicted_vals = '''CODE HERE：构造决策树桩，并对训练数据集进行预测'''\n",
    "                \n",
    "                err_arr = np.ones((m, 1))\n",
    "                err_arr[predicted_vals == y] = 0\n",
    "                weighted_error = np.dot(D.T, err_arr)\n",
    "                if weighted_error < min_error:\n",
    "                    min_error = weighted_error\n",
    "                    best_class_est = predicted_vals.copy()\n",
    "                    best_stump['dim'] = i\n",
    "                    best_stump['thresh'] = thresh_val\n",
    "                    best_stump['ineq'] = inequal\n",
    "    return best_stump, min_error, best_class_est"
   ]
  },
  {
   "cell_type": "markdown",
   "metadata": {},
   "source": [
    "## 3. 实现AdaBoost\n",
    "### 3.1、3.2 实现fit()和predict()方法"
   ]
  },
  {
   "cell_type": "code",
   "execution_count": 27,
   "metadata": {},
   "outputs": [],
   "source": [
    "from sklearn.base import BaseEstimator, ClassifierMixin # mixin 混合\n",
    "\n",
    "class AdaBoostClassifier_(BaseEstimator, ClassifierMixin):\n",
    "    def __init__(self, num_iters=40):\n",
    "        self.num_iters = num_iters\n",
    "        self.classifiers = []\n",
    "        \n",
    "    def fit(self, X, y):\n",
    "        y = y.reshape(-1, 1)  # 确保 y 是列向量\n",
    "        m = X.shape[0]\n",
    "        w = np.ones((m, 1)) / m\n",
    "        agg_class_est = np.zeros((m, 1))\n",
    "        for i in range(self.num_iters):\n",
    "            '''CODE HERE:实现算法第3行，训练出当前的决策树桩'''\n",
    "            \n",
    "            '''CODE HERE:实现算法第4行，先计算错误率，然后计算alpha'''\n",
    "\n",
    "            best_stump['alpha'] = alpha            \n",
    "            self.classifiers.append(best_stump)            \n",
    "            '''CODE HERE:实现算法第5行，更新样本权重w，供下一轮循环使用'''\n",
    "            \n",
    "\n",
    "            if error_rate == 0.0:\n",
    "                break\n",
    "        return self\n",
    "\n",
    "    def predict(self, X):\n",
    "        m = X.shape[0]\n",
    "        agg_class_est = np.zeros((m, 1))\n",
    "        for classifier in self.classifiers:\n",
    "            dim = classifier['dim']\n",
    "            thresh = classifier['thresh']\n",
    "            ineq = classifier['ineq']\n",
    "            alpha=classifier['alpha']\n",
    "\n",
    "            '''CODE HERE:'''\n",
    "            \n",
    "        return \n"
   ]
  },
  {
   "cell_type": "markdown",
   "metadata": {},
   "source": [
    "### 3.3 实例化AdaBoostClassifier_的实例，并用其训练、预测和性能度量"
   ]
  },
  {
   "cell_type": "markdown",
   "metadata": {},
   "source": [
    "在训练数据集上的预测准确率约为0.97076"
   ]
  },
  {
   "cell_type": "code",
   "execution_count": null,
   "metadata": {},
   "outputs": [],
   "source": [
    "from sklearn.metrics import accuracy_score\n",
    "\n",
    "clf = AdaBoostClassifier_(num_iters=10)\n",
    "'''CODE HERE'''\n",
    "print(accuracy_score(y_test, y_pred))\n",
    "\n",
    "# 另一种直接度量训练数据上准确率的方法\n",
    "print(clf.score(X_test, y_test))"
   ]
  },
  {
   "cell_type": "markdown",
   "metadata": {},
   "source": [
    "## 4. 使用sklearn.ensemble.AdaBoostClassifier进行训练和预测"
   ]
  },
  {
   "cell_type": "markdown",
   "metadata": {},
   "source": [
    "在训练数据集上的预测准确率约为0.9766"
   ]
  },
  {
   "cell_type": "code",
   "execution_count": 28,
   "metadata": {},
   "outputs": [
    {
     "name": "stdout",
     "output_type": "stream",
     "text": [
      "Accuracy of clf1: 0.9707602339181286\n",
      "0.9707602339181286\n",
      "Accuracy of clf2: 0.9766081871345029\n"
     ]
    }
   ],
   "source": [
    "from sklearn.ensemble import AdaBoostClassifier\n",
    "'''CODE HERE'''"
   ]
  }
 ],
 "metadata": {
  "kernelspec": {
   "display_name": "base",
   "language": "python",
   "name": "python3"
  },
  "language_info": {
   "codemirror_mode": {
    "name": "ipython",
    "version": 3
   },
   "file_extension": ".py",
   "mimetype": "text/x-python",
   "name": "python",
   "nbconvert_exporter": "python",
   "pygments_lexer": "ipython3",
   "version": "3.9.12"
  }
 },
 "nbformat": 4,
 "nbformat_minor": 2
}
